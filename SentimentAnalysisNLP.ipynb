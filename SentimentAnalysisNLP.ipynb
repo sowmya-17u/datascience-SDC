{
  "nbformat": 4,
  "nbformat_minor": 0,
  "metadata": {
    "colab": {
      "provenance": []
    },
    "kernelspec": {
      "name": "python3",
      "display_name": "Python 3"
    },
    "language_info": {
      "name": "python"
    }
  },
  "cells": [
    {
      "cell_type": "markdown",
      "source": [
        "IMPORT ALL NECESSARY LIBRARIES"
      ],
      "metadata": {
        "id": "dagPe-GEE3qv"
      }
    },
    {
      "cell_type": "code",
      "execution_count": null,
      "metadata": {
        "colab": {
          "base_uri": "https://localhost:8080/"
        },
        "id": "lOjzpdYZEiCb",
        "outputId": "022d934f-df73-4ac0-aec5-017d321b5305"
      },
      "outputs": [
        {
          "output_type": "stream",
          "name": "stderr",
          "text": [
            "[nltk_data] Downloading package stopwords to /root/nltk_data...\n",
            "[nltk_data]   Unzipping corpora/stopwords.zip.\n"
          ]
        },
        {
          "output_type": "execute_result",
          "data": {
            "text/plain": [
              "True"
            ]
          },
          "metadata": {},
          "execution_count": 13
        }
      ],
      "source": [
        "import pandas as pd\n",
        "import numpy as np\n",
        "import matplotlib.pyplot as plt\n",
        "import seaborn as sns\n",
        "# NLP libraries\n",
        "import nltk\n",
        "from nltk.corpus import stopwords\n",
        "from nltk.tokenize import word_tokenize\n",
        "from nltk.sentiment.vader import SentimentIntensityAnalyzer\n",
        "from nltk.corpus import stopwords\n"
      ]
    },
    {
      "cell_type": "markdown",
      "source": [
        "DATA ACQUISITION"
      ],
      "metadata": {
        "id": "iXp8SL-nE-v9"
      }
    },
    {
      "cell_type": "code",
      "source": [
        "from google.colab import drive\n",
        "drive.mount('/content/drive')"
      ],
      "metadata": {
        "id": "JdMkzVvcHP8I"
      },
      "execution_count": null,
      "outputs": []
    },
    {
      "cell_type": "code",
      "source": [
        "path = \"/content/drive/MyDrive/social_media_sentiment.csv\"\n",
        "\n",
        "df = pd.read_csv(path)\n",
        "print(df.to_string())"
      ],
      "metadata": {
        "colab": {
          "base_uri": "https://localhost:8080/"
        },
        "collapsed": true,
        "id": "uWXvffLZHXXc",
        "outputId": "577a6560-f06b-4ee3-be6e-901aac8e9ef0"
      },
      "execution_count": null,
      "outputs": [
        {
          "output_type": "stream",
          "name": "stdout",
          "text": [
            "                                                                                       review sentiment\n",
            "0    This movie was fantastic! The plot was engaging, and the characters were well developed.  positive\n",
            "1                        I didn't enjoy this movie. The storyline was predictable and boring.  negative\n",
            "2                                 The actors did a great job, and I loved the cinematography.  positive\n",
            "3                                      The film was a waste of time. I wouldn’t recommend it.  negative\n",
            "4                                  An amazing film with a moving story and incredible acting!  positive\n",
            "5                                It was hard to sit through this movie; the pace was so slow.  negative\n",
            "6                              The special effects were stunning, but the story lacked depth.  negative\n",
            "7                                    A beautifully crafted movie with a heartwarming message.  positive\n",
            "8                                            I fell asleep halfway through; it was that dull.  negative\n",
            "9                                             A true masterpiece, it deserves all the praise!  positive\n",
            "10   This movie was fantastic! The plot was engaging, and the characters were well developed.  positive\n",
            "11                       I didn't enjoy this movie. The storyline was predictable and boring.  negative\n",
            "12                                The actors did a great job, and I loved the cinematography.  positive\n",
            "13                                     The film was a waste of time. I wouldn’t recommend it.  negative\n",
            "14                                 An amazing film with a moving story and incredible acting!  positive\n",
            "15                               It was hard to sit through this movie; the pace was so slow.  negative\n",
            "16                             The special effects were stunning, but the story lacked depth.  negative\n",
            "17                                   A beautifully crafted movie with a heartwarming message.  positive\n",
            "18                                           I fell asleep halfway through; it was that dull.  negative\n",
            "19                                            A true masterpiece, it deserves all the praise!  positive\n",
            "20   This movie was fantastic! The plot was engaging, and the characters were well developed.  positive\n",
            "21                       I didn't enjoy this movie. The storyline was predictable and boring.  negative\n",
            "22                                The actors did a great job, and I loved the cinematography.  positive\n",
            "23                                     The film was a waste of time. I wouldn’t recommend it.  negative\n",
            "24                                 An amazing film with a moving story and incredible acting!  positive\n",
            "25                               It was hard to sit through this movie; the pace was so slow.  negative\n",
            "26                             The special effects were stunning, but the story lacked depth.  negative\n",
            "27                                   A beautifully crafted movie with a heartwarming message.  positive\n",
            "28                                           I fell asleep halfway through; it was that dull.  negative\n",
            "29                                            A true masterpiece, it deserves all the praise!  positive\n",
            "30   This movie was fantastic! The plot was engaging, and the characters were well developed.  positive\n",
            "31                       I didn't enjoy this movie. The storyline was predictable and boring.  negative\n",
            "32                                The actors did a great job, and I loved the cinematography.  positive\n",
            "33                                     The film was a waste of time. I wouldn’t recommend it.  negative\n",
            "34                                 An amazing film with a moving story and incredible acting!  positive\n",
            "35                               It was hard to sit through this movie; the pace was so slow.  negative\n",
            "36                             The special effects were stunning, but the story lacked depth.  negative\n",
            "37                                   A beautifully crafted movie with a heartwarming message.  positive\n",
            "38                                           I fell asleep halfway through; it was that dull.  negative\n",
            "39                                            A true masterpiece, it deserves all the praise!  positive\n",
            "40   This movie was fantastic! The plot was engaging, and the characters were well developed.  positive\n",
            "41                       I didn't enjoy this movie. The storyline was predictable and boring.  negative\n",
            "42                                The actors did a great job, and I loved the cinematography.  positive\n",
            "43                                     The film was a waste of time. I wouldn’t recommend it.  negative\n",
            "44                                 An amazing film with a moving story and incredible acting!  positive\n",
            "45                               It was hard to sit through this movie; the pace was so slow.  negative\n",
            "46                             The special effects were stunning, but the story lacked depth.  negative\n",
            "47                                   A beautifully crafted movie with a heartwarming message.  positive\n",
            "48                                           I fell asleep halfway through; it was that dull.  negative\n",
            "49                                            A true masterpiece, it deserves all the praise!  positive\n",
            "50   This movie was fantastic! The plot was engaging, and the characters were well developed.  positive\n",
            "51                       I didn't enjoy this movie. The storyline was predictable and boring.  negative\n",
            "52                                The actors did a great job, and I loved the cinematography.  positive\n",
            "53                                     The film was a waste of time. I wouldn’t recommend it.  negative\n",
            "54                                 An amazing film with a moving story and incredible acting!  positive\n",
            "55                               It was hard to sit through this movie; the pace was so slow.  negative\n",
            "56                             The special effects were stunning, but the story lacked depth.  negative\n",
            "57                                   A beautifully crafted movie with a heartwarming message.  positive\n",
            "58                                           I fell asleep halfway through; it was that dull.  negative\n",
            "59                                            A true masterpiece, it deserves all the praise!  positive\n",
            "60   This movie was fantastic! The plot was engaging, and the characters were well developed.  positive\n",
            "61                       I didn't enjoy this movie. The storyline was predictable and boring.  negative\n",
            "62                                The actors did a great job, and I loved the cinematography.  positive\n",
            "63                                     The film was a waste of time. I wouldn’t recommend it.  negative\n",
            "64                                 An amazing film with a moving story and incredible acting!  positive\n",
            "65                               It was hard to sit through this movie; the pace was so slow.  negative\n",
            "66                             The special effects were stunning, but the story lacked depth.  negative\n",
            "67                                   A beautifully crafted movie with a heartwarming message.  positive\n",
            "68                                           I fell asleep halfway through; it was that dull.  negative\n",
            "69                                            A true masterpiece, it deserves all the praise!  positive\n",
            "70   This movie was fantastic! The plot was engaging, and the characters were well developed.  positive\n",
            "71                       I didn't enjoy this movie. The storyline was predictable and boring.  negative\n",
            "72                                The actors did a great job, and I loved the cinematography.  positive\n",
            "73                                     The film was a waste of time. I wouldn’t recommend it.  negative\n",
            "74                                 An amazing film with a moving story and incredible acting!  positive\n",
            "75                               It was hard to sit through this movie; the pace was so slow.  negative\n",
            "76                             The special effects were stunning, but the story lacked depth.  negative\n",
            "77                                   A beautifully crafted movie with a heartwarming message.  positive\n",
            "78                                           I fell asleep halfway through; it was that dull.  negative\n",
            "79                                            A true masterpiece, it deserves all the praise!  positive\n",
            "80   This movie was fantastic! The plot was engaging, and the characters were well developed.  positive\n",
            "81                       I didn't enjoy this movie. The storyline was predictable and boring.  negative\n",
            "82                                The actors did a great job, and I loved the cinematography.  positive\n",
            "83                                     The film was a waste of time. I wouldn’t recommend it.  negative\n",
            "84                                 An amazing film with a moving story and incredible acting!  positive\n",
            "85                               It was hard to sit through this movie; the pace was so slow.  negative\n",
            "86                             The special effects were stunning, but the story lacked depth.  negative\n",
            "87                                   A beautifully crafted movie with a heartwarming message.  positive\n",
            "88                                           I fell asleep halfway through; it was that dull.  negative\n",
            "89                                            A true masterpiece, it deserves all the praise!  positive\n",
            "90   This movie was fantastic! The plot was engaging, and the characters were well developed.  positive\n",
            "91                       I didn't enjoy this movie. The storyline was predictable and boring.  negative\n",
            "92                                The actors did a great job, and I loved the cinematography.  positive\n",
            "93                                     The film was a waste of time. I wouldn’t recommend it.  negative\n",
            "94                                 An amazing film with a moving story and incredible acting!  positive\n",
            "95                               It was hard to sit through this movie; the pace was so slow.  negative\n",
            "96                             The special effects were stunning, but the story lacked depth.  negative\n",
            "97                                   A beautifully crafted movie with a heartwarming message.  positive\n",
            "98                                           I fell asleep halfway through; it was that dull.  negative\n",
            "99                                            A true masterpiece, it deserves all the praise!  positive\n",
            "100  This movie was fantastic! The plot was engaging, and the characters were well developed.  positive\n",
            "101                      I didn't enjoy this movie. The storyline was predictable and boring.  negative\n",
            "102                               The actors did a great job, and I loved the cinematography.  positive\n",
            "103                                    The film was a waste of time. I wouldn’t recommend it.  negative\n",
            "104                                An amazing film with a moving story and incredible acting!  positive\n",
            "105                              It was hard to sit through this movie; the pace was so slow.  negative\n",
            "106                            The special effects were stunning, but the story lacked depth.  negative\n",
            "107                                  A beautifully crafted movie with a heartwarming message.  positive\n",
            "108                                          I fell asleep halfway through; it was that dull.  negative\n",
            "109                                           A true masterpiece, it deserves all the praise!  positive\n",
            "110  This movie was fantastic! The plot was engaging, and the characters were well developed.  positive\n",
            "111                      I didn't enjoy this movie. The storyline was predictable and boring.  negative\n",
            "112                               The actors did a great job, and I loved the cinematography.  positive\n",
            "113                                    The film was a waste of time. I wouldn’t recommend it.  negative\n",
            "114                                An amazing film with a moving story and incredible acting!  positive\n",
            "115                              It was hard to sit through this movie; the pace was so slow.  negative\n",
            "116                            The special effects were stunning, but the story lacked depth.  negative\n",
            "117                                  A beautifully crafted movie with a heartwarming message.  positive\n",
            "118                                          I fell asleep halfway through; it was that dull.  negative\n",
            "119                                           A true masterpiece, it deserves all the praise!  positive\n",
            "120  This movie was fantastic! The plot was engaging, and the characters were well developed.  positive\n",
            "121                      I didn't enjoy this movie. The storyline was predictable and boring.  negative\n",
            "122                               The actors did a great job, and I loved the cinematography.  positive\n",
            "123                                    The film was a waste of time. I wouldn’t recommend it.  negative\n",
            "124                                An amazing film with a moving story and incredible acting!  positive\n",
            "125                              It was hard to sit through this movie; the pace was so slow.  negative\n",
            "126                            The special effects were stunning, but the story lacked depth.  negative\n",
            "127                                  A beautifully crafted movie with a heartwarming message.  positive\n",
            "128                                          I fell asleep halfway through; it was that dull.  negative\n",
            "129                                           A true masterpiece, it deserves all the praise!  positive\n",
            "130  This movie was fantastic! The plot was engaging, and the characters were well developed.  positive\n",
            "131                      I didn't enjoy this movie. The storyline was predictable and boring.  negative\n",
            "132                               The actors did a great job, and I loved the cinematography.  positive\n",
            "133                                    The film was a waste of time. I wouldn’t recommend it.  negative\n",
            "134                                An amazing film with a moving story and incredible acting!  positive\n",
            "135                              It was hard to sit through this movie; the pace was so slow.  negative\n",
            "136                            The special effects were stunning, but the story lacked depth.  negative\n",
            "137                                  A beautifully crafted movie with a heartwarming message.  positive\n",
            "138                                          I fell asleep halfway through; it was that dull.  negative\n",
            "139                                           A true masterpiece, it deserves all the praise!  positive\n",
            "140  This movie was fantastic! The plot was engaging, and the characters were well developed.  positive\n",
            "141                      I didn't enjoy this movie. The storyline was predictable and boring.  negative\n",
            "142                               The actors did a great job, and I loved the cinematography.  positive\n",
            "143                                    The film was a waste of time. I wouldn’t recommend it.  negative\n",
            "144                                An amazing film with a moving story and incredible acting!  positive\n",
            "145                              It was hard to sit through this movie; the pace was so slow.  negative\n",
            "146                            The special effects were stunning, but the story lacked depth.  negative\n",
            "147                                  A beautifully crafted movie with a heartwarming message.  positive\n",
            "148                                          I fell asleep halfway through; it was that dull.  negative\n",
            "149                                           A true masterpiece, it deserves all the praise!  positive\n",
            "150  This movie was fantastic! The plot was engaging, and the characters were well developed.  positive\n",
            "151                      I didn't enjoy this movie. The storyline was predictable and boring.  negative\n",
            "152                               The actors did a great job, and I loved the cinematography.  positive\n",
            "153                                    The film was a waste of time. I wouldn’t recommend it.  negative\n",
            "154                                An amazing film with a moving story and incredible acting!  positive\n",
            "155                              It was hard to sit through this movie; the pace was so slow.  negative\n",
            "156                            The special effects were stunning, but the story lacked depth.  negative\n",
            "157                                  A beautifully crafted movie with a heartwarming message.  positive\n",
            "158                                          I fell asleep halfway through; it was that dull.  negative\n",
            "159                                           A true masterpiece, it deserves all the praise!  positive\n",
            "160  This movie was fantastic! The plot was engaging, and the characters were well developed.  positive\n",
            "161                      I didn't enjoy this movie. The storyline was predictable and boring.  negative\n",
            "162                               The actors did a great job, and I loved the cinematography.  positive\n",
            "163                                    The film was a waste of time. I wouldn’t recommend it.  negative\n",
            "164                                An amazing film with a moving story and incredible acting!  positive\n",
            "165                              It was hard to sit through this movie; the pace was so slow.  negative\n",
            "166                            The special effects were stunning, but the story lacked depth.  negative\n",
            "167                                  A beautifully crafted movie with a heartwarming message.  positive\n",
            "168                                          I fell asleep halfway through; it was that dull.  negative\n",
            "169                                           A true masterpiece, it deserves all the praise!  positive\n",
            "170  This movie was fantastic! The plot was engaging, and the characters were well developed.  positive\n",
            "171                      I didn't enjoy this movie. The storyline was predictable and boring.  negative\n",
            "172                               The actors did a great job, and I loved the cinematography.  positive\n",
            "173                                    The film was a waste of time. I wouldn’t recommend it.  negative\n",
            "174                                An amazing film with a moving story and incredible acting!  positive\n",
            "175                              It was hard to sit through this movie; the pace was so slow.  negative\n",
            "176                            The special effects were stunning, but the story lacked depth.  negative\n",
            "177                                  A beautifully crafted movie with a heartwarming message.  positive\n",
            "178                                          I fell asleep halfway through; it was that dull.  negative\n",
            "179                                           A true masterpiece, it deserves all the praise!  positive\n",
            "180  This movie was fantastic! The plot was engaging, and the characters were well developed.  positive\n",
            "181                      I didn't enjoy this movie. The storyline was predictable and boring.  negative\n",
            "182                               The actors did a great job, and I loved the cinematography.  positive\n",
            "183                                    The film was a waste of time. I wouldn’t recommend it.  negative\n",
            "184                                An amazing film with a moving story and incredible acting!  positive\n",
            "185                              It was hard to sit through this movie; the pace was so slow.  negative\n",
            "186                            The special effects were stunning, but the story lacked depth.  negative\n",
            "187                                  A beautifully crafted movie with a heartwarming message.  positive\n",
            "188                                          I fell asleep halfway through; it was that dull.  negative\n",
            "189                                           A true masterpiece, it deserves all the praise!  positive\n",
            "190  This movie was fantastic! The plot was engaging, and the characters were well developed.  positive\n",
            "191                      I didn't enjoy this movie. The storyline was predictable and boring.  negative\n",
            "192                               The actors did a great job, and I loved the cinematography.  positive\n",
            "193                                    The film was a waste of time. I wouldn’t recommend it.  negative\n",
            "194                                An amazing film with a moving story and incredible acting!  positive\n",
            "195                              It was hard to sit through this movie; the pace was so slow.  negative\n",
            "196                            The special effects were stunning, but the story lacked depth.  negative\n",
            "197                                  A beautifully crafted movie with a heartwarming message.  positive\n",
            "198                                          I fell asleep halfway through; it was that dull.  negative\n",
            "199                                           A true masterpiece, it deserves all the praise!  positive\n"
          ]
        }
      ]
    },
    {
      "cell_type": "code",
      "source": [
        "from google.colab import files\n",
        "uploaded = files.upload()"
      ],
      "metadata": {
        "colab": {
          "base_uri": "https://localhost:8080/",
          "height": 325
        },
        "collapsed": true,
        "id": "5_eGUi7FEr7b",
        "outputId": "9127d6bc-2305-46ac-ae8c-9d31d8aaf817"
      },
      "execution_count": null,
      "outputs": [
        {
          "output_type": "display_data",
          "data": {
            "text/plain": [
              "<IPython.core.display.HTML object>"
            ],
            "text/html": [
              "\n",
              "     <input type=\"file\" id=\"files-da9cb239-d519-488b-a7be-6482e3426ecb\" name=\"files[]\" multiple disabled\n",
              "        style=\"border:none\" />\n",
              "     <output id=\"result-da9cb239-d519-488b-a7be-6482e3426ecb\">\n",
              "      Upload widget is only available when the cell has been executed in the\n",
              "      current browser session. Please rerun this cell to enable.\n",
              "      </output>\n",
              "      <script>// Copyright 2017 Google LLC\n",
              "//\n",
              "// Licensed under the Apache License, Version 2.0 (the \"License\");\n",
              "// you may not use this file except in compliance with the License.\n",
              "// You may obtain a copy of the License at\n",
              "//\n",
              "//      http://www.apache.org/licenses/LICENSE-2.0\n",
              "//\n",
              "// Unless required by applicable law or agreed to in writing, software\n",
              "// distributed under the License is distributed on an \"AS IS\" BASIS,\n",
              "// WITHOUT WARRANTIES OR CONDITIONS OF ANY KIND, either express or implied.\n",
              "// See the License for the specific language governing permissions and\n",
              "// limitations under the License.\n",
              "\n",
              "/**\n",
              " * @fileoverview Helpers for google.colab Python module.\n",
              " */\n",
              "(function(scope) {\n",
              "function span(text, styleAttributes = {}) {\n",
              "  const element = document.createElement('span');\n",
              "  element.textContent = text;\n",
              "  for (const key of Object.keys(styleAttributes)) {\n",
              "    element.style[key] = styleAttributes[key];\n",
              "  }\n",
              "  return element;\n",
              "}\n",
              "\n",
              "// Max number of bytes which will be uploaded at a time.\n",
              "const MAX_PAYLOAD_SIZE = 100 * 1024;\n",
              "\n",
              "function _uploadFiles(inputId, outputId) {\n",
              "  const steps = uploadFilesStep(inputId, outputId);\n",
              "  const outputElement = document.getElementById(outputId);\n",
              "  // Cache steps on the outputElement to make it available for the next call\n",
              "  // to uploadFilesContinue from Python.\n",
              "  outputElement.steps = steps;\n",
              "\n",
              "  return _uploadFilesContinue(outputId);\n",
              "}\n",
              "\n",
              "// This is roughly an async generator (not supported in the browser yet),\n",
              "// where there are multiple asynchronous steps and the Python side is going\n",
              "// to poll for completion of each step.\n",
              "// This uses a Promise to block the python side on completion of each step,\n",
              "// then passes the result of the previous step as the input to the next step.\n",
              "function _uploadFilesContinue(outputId) {\n",
              "  const outputElement = document.getElementById(outputId);\n",
              "  const steps = outputElement.steps;\n",
              "\n",
              "  const next = steps.next(outputElement.lastPromiseValue);\n",
              "  return Promise.resolve(next.value.promise).then((value) => {\n",
              "    // Cache the last promise value to make it available to the next\n",
              "    // step of the generator.\n",
              "    outputElement.lastPromiseValue = value;\n",
              "    return next.value.response;\n",
              "  });\n",
              "}\n",
              "\n",
              "/**\n",
              " * Generator function which is called between each async step of the upload\n",
              " * process.\n",
              " * @param {string} inputId Element ID of the input file picker element.\n",
              " * @param {string} outputId Element ID of the output display.\n",
              " * @return {!Iterable<!Object>} Iterable of next steps.\n",
              " */\n",
              "function* uploadFilesStep(inputId, outputId) {\n",
              "  const inputElement = document.getElementById(inputId);\n",
              "  inputElement.disabled = false;\n",
              "\n",
              "  const outputElement = document.getElementById(outputId);\n",
              "  outputElement.innerHTML = '';\n",
              "\n",
              "  const pickedPromise = new Promise((resolve) => {\n",
              "    inputElement.addEventListener('change', (e) => {\n",
              "      resolve(e.target.files);\n",
              "    });\n",
              "  });\n",
              "\n",
              "  const cancel = document.createElement('button');\n",
              "  inputElement.parentElement.appendChild(cancel);\n",
              "  cancel.textContent = 'Cancel upload';\n",
              "  const cancelPromise = new Promise((resolve) => {\n",
              "    cancel.onclick = () => {\n",
              "      resolve(null);\n",
              "    };\n",
              "  });\n",
              "\n",
              "  // Wait for the user to pick the files.\n",
              "  const files = yield {\n",
              "    promise: Promise.race([pickedPromise, cancelPromise]),\n",
              "    response: {\n",
              "      action: 'starting',\n",
              "    }\n",
              "  };\n",
              "\n",
              "  cancel.remove();\n",
              "\n",
              "  // Disable the input element since further picks are not allowed.\n",
              "  inputElement.disabled = true;\n",
              "\n",
              "  if (!files) {\n",
              "    return {\n",
              "      response: {\n",
              "        action: 'complete',\n",
              "      }\n",
              "    };\n",
              "  }\n",
              "\n",
              "  for (const file of files) {\n",
              "    const li = document.createElement('li');\n",
              "    li.append(span(file.name, {fontWeight: 'bold'}));\n",
              "    li.append(span(\n",
              "        `(${file.type || 'n/a'}) - ${file.size} bytes, ` +\n",
              "        `last modified: ${\n",
              "            file.lastModifiedDate ? file.lastModifiedDate.toLocaleDateString() :\n",
              "                                    'n/a'} - `));\n",
              "    const percent = span('0% done');\n",
              "    li.appendChild(percent);\n",
              "\n",
              "    outputElement.appendChild(li);\n",
              "\n",
              "    const fileDataPromise = new Promise((resolve) => {\n",
              "      const reader = new FileReader();\n",
              "      reader.onload = (e) => {\n",
              "        resolve(e.target.result);\n",
              "      };\n",
              "      reader.readAsArrayBuffer(file);\n",
              "    });\n",
              "    // Wait for the data to be ready.\n",
              "    let fileData = yield {\n",
              "      promise: fileDataPromise,\n",
              "      response: {\n",
              "        action: 'continue',\n",
              "      }\n",
              "    };\n",
              "\n",
              "    // Use a chunked sending to avoid message size limits. See b/62115660.\n",
              "    let position = 0;\n",
              "    do {\n",
              "      const length = Math.min(fileData.byteLength - position, MAX_PAYLOAD_SIZE);\n",
              "      const chunk = new Uint8Array(fileData, position, length);\n",
              "      position += length;\n",
              "\n",
              "      const base64 = btoa(String.fromCharCode.apply(null, chunk));\n",
              "      yield {\n",
              "        response: {\n",
              "          action: 'append',\n",
              "          file: file.name,\n",
              "          data: base64,\n",
              "        },\n",
              "      };\n",
              "\n",
              "      let percentDone = fileData.byteLength === 0 ?\n",
              "          100 :\n",
              "          Math.round((position / fileData.byteLength) * 100);\n",
              "      percent.textContent = `${percentDone}% done`;\n",
              "\n",
              "    } while (position < fileData.byteLength);\n",
              "  }\n",
              "\n",
              "  // All done.\n",
              "  yield {\n",
              "    response: {\n",
              "      action: 'complete',\n",
              "    }\n",
              "  };\n",
              "}\n",
              "\n",
              "scope.google = scope.google || {};\n",
              "scope.google.colab = scope.google.colab || {};\n",
              "scope.google.colab._files = {\n",
              "  _uploadFiles,\n",
              "  _uploadFilesContinue,\n",
              "};\n",
              "})(self);\n",
              "</script> "
            ]
          },
          "metadata": {}
        },
        {
          "output_type": "error",
          "ename": "KeyboardInterrupt",
          "evalue": "",
          "traceback": [
            "\u001b[0;31m---------------------------------------------------------------------------\u001b[0m",
            "\u001b[0;31mKeyboardInterrupt\u001b[0m                         Traceback (most recent call last)",
            "\u001b[0;32m<ipython-input-2-21dc3c638f66>\u001b[0m in \u001b[0;36m<cell line: 2>\u001b[0;34m()\u001b[0m\n\u001b[1;32m      1\u001b[0m \u001b[0;32mfrom\u001b[0m \u001b[0mgoogle\u001b[0m\u001b[0;34m.\u001b[0m\u001b[0mcolab\u001b[0m \u001b[0;32mimport\u001b[0m \u001b[0mfiles\u001b[0m\u001b[0;34m\u001b[0m\u001b[0;34m\u001b[0m\u001b[0m\n\u001b[0;32m----> 2\u001b[0;31m \u001b[0muploaded\u001b[0m \u001b[0;34m=\u001b[0m \u001b[0mfiles\u001b[0m\u001b[0;34m.\u001b[0m\u001b[0mupload\u001b[0m\u001b[0;34m(\u001b[0m\u001b[0;34m)\u001b[0m\u001b[0;34m\u001b[0m\u001b[0;34m\u001b[0m\u001b[0m\n\u001b[0m",
            "\u001b[0;32m/usr/local/lib/python3.10/dist-packages/google/colab/files.py\u001b[0m in \u001b[0;36mupload\u001b[0;34m(target_dir)\u001b[0m\n\u001b[1;32m     70\u001b[0m   \"\"\"\n\u001b[1;32m     71\u001b[0m \u001b[0;34m\u001b[0m\u001b[0m\n\u001b[0;32m---> 72\u001b[0;31m   \u001b[0muploaded_files\u001b[0m \u001b[0;34m=\u001b[0m \u001b[0m_upload_files\u001b[0m\u001b[0;34m(\u001b[0m\u001b[0mmultiple\u001b[0m\u001b[0;34m=\u001b[0m\u001b[0;32mTrue\u001b[0m\u001b[0;34m)\u001b[0m\u001b[0;34m\u001b[0m\u001b[0;34m\u001b[0m\u001b[0m\n\u001b[0m\u001b[1;32m     73\u001b[0m   \u001b[0;31m# Mapping from original filename to filename as saved locally.\u001b[0m\u001b[0;34m\u001b[0m\u001b[0;34m\u001b[0m\u001b[0m\n\u001b[1;32m     74\u001b[0m   \u001b[0mlocal_filenames\u001b[0m \u001b[0;34m=\u001b[0m \u001b[0mdict\u001b[0m\u001b[0;34m(\u001b[0m\u001b[0;34m)\u001b[0m\u001b[0;34m\u001b[0m\u001b[0;34m\u001b[0m\u001b[0m\n",
            "\u001b[0;32m/usr/local/lib/python3.10/dist-packages/google/colab/files.py\u001b[0m in \u001b[0;36m_upload_files\u001b[0;34m(multiple)\u001b[0m\n\u001b[1;32m    162\u001b[0m \u001b[0;34m\u001b[0m\u001b[0m\n\u001b[1;32m    163\u001b[0m   \u001b[0;31m# First result is always an indication that the file picker has completed.\u001b[0m\u001b[0;34m\u001b[0m\u001b[0;34m\u001b[0m\u001b[0m\n\u001b[0;32m--> 164\u001b[0;31m   result = _output.eval_js(\n\u001b[0m\u001b[1;32m    165\u001b[0m       'google.colab._files._uploadFiles(\"{input_id}\", \"{output_id}\")'.format(\n\u001b[1;32m    166\u001b[0m           \u001b[0minput_id\u001b[0m\u001b[0;34m=\u001b[0m\u001b[0minput_id\u001b[0m\u001b[0;34m,\u001b[0m \u001b[0moutput_id\u001b[0m\u001b[0;34m=\u001b[0m\u001b[0moutput_id\u001b[0m\u001b[0;34m\u001b[0m\u001b[0;34m\u001b[0m\u001b[0m\n",
            "\u001b[0;32m/usr/local/lib/python3.10/dist-packages/google/colab/output/_js.py\u001b[0m in \u001b[0;36meval_js\u001b[0;34m(script, ignore_result, timeout_sec)\u001b[0m\n\u001b[1;32m     38\u001b[0m   \u001b[0;32mif\u001b[0m \u001b[0mignore_result\u001b[0m\u001b[0;34m:\u001b[0m\u001b[0;34m\u001b[0m\u001b[0;34m\u001b[0m\u001b[0m\n\u001b[1;32m     39\u001b[0m     \u001b[0;32mreturn\u001b[0m\u001b[0;34m\u001b[0m\u001b[0;34m\u001b[0m\u001b[0m\n\u001b[0;32m---> 40\u001b[0;31m   \u001b[0;32mreturn\u001b[0m \u001b[0m_message\u001b[0m\u001b[0;34m.\u001b[0m\u001b[0mread_reply_from_input\u001b[0m\u001b[0;34m(\u001b[0m\u001b[0mrequest_id\u001b[0m\u001b[0;34m,\u001b[0m \u001b[0mtimeout_sec\u001b[0m\u001b[0;34m)\u001b[0m\u001b[0;34m\u001b[0m\u001b[0;34m\u001b[0m\u001b[0m\n\u001b[0m\u001b[1;32m     41\u001b[0m \u001b[0;34m\u001b[0m\u001b[0m\n\u001b[1;32m     42\u001b[0m \u001b[0;34m\u001b[0m\u001b[0m\n",
            "\u001b[0;32m/usr/local/lib/python3.10/dist-packages/google/colab/_message.py\u001b[0m in \u001b[0;36mread_reply_from_input\u001b[0;34m(message_id, timeout_sec)\u001b[0m\n\u001b[1;32m     94\u001b[0m     \u001b[0mreply\u001b[0m \u001b[0;34m=\u001b[0m \u001b[0m_read_next_input_message\u001b[0m\u001b[0;34m(\u001b[0m\u001b[0;34m)\u001b[0m\u001b[0;34m\u001b[0m\u001b[0;34m\u001b[0m\u001b[0m\n\u001b[1;32m     95\u001b[0m     \u001b[0;32mif\u001b[0m \u001b[0mreply\u001b[0m \u001b[0;34m==\u001b[0m \u001b[0m_NOT_READY\u001b[0m \u001b[0;32mor\u001b[0m \u001b[0;32mnot\u001b[0m \u001b[0misinstance\u001b[0m\u001b[0;34m(\u001b[0m\u001b[0mreply\u001b[0m\u001b[0;34m,\u001b[0m \u001b[0mdict\u001b[0m\u001b[0;34m)\u001b[0m\u001b[0;34m:\u001b[0m\u001b[0;34m\u001b[0m\u001b[0;34m\u001b[0m\u001b[0m\n\u001b[0;32m---> 96\u001b[0;31m       \u001b[0mtime\u001b[0m\u001b[0;34m.\u001b[0m\u001b[0msleep\u001b[0m\u001b[0;34m(\u001b[0m\u001b[0;36m0.025\u001b[0m\u001b[0;34m)\u001b[0m\u001b[0;34m\u001b[0m\u001b[0;34m\u001b[0m\u001b[0m\n\u001b[0m\u001b[1;32m     97\u001b[0m       \u001b[0;32mcontinue\u001b[0m\u001b[0;34m\u001b[0m\u001b[0;34m\u001b[0m\u001b[0m\n\u001b[1;32m     98\u001b[0m     if (\n",
            "\u001b[0;31mKeyboardInterrupt\u001b[0m: "
          ]
        }
      ]
    },
    {
      "cell_type": "markdown",
      "source": [
        "DATA PREPROCESSING"
      ],
      "metadata": {
        "id": "4PTWnnMjFHuV"
      }
    },
    {
      "cell_type": "code",
      "source": [
        "# Load dataset into Pandas DataFrame\n",
        "df = pd.read_csv('social_media_sentiment.csv')"
      ],
      "metadata": {
        "colab": {
          "base_uri": "https://localhost:8080/",
          "height": 321
        },
        "collapsed": true,
        "id": "RZIFYsc6EtGy",
        "outputId": "d48abe63-cd46-4a19-dfb4-ad09f0f594a7"
      },
      "execution_count": null,
      "outputs": [
        {
          "output_type": "error",
          "ename": "FileNotFoundError",
          "evalue": "[Errno 2] No such file or directory: 'social_media_sentiment.csv'",
          "traceback": [
            "\u001b[0;31m---------------------------------------------------------------------------\u001b[0m",
            "\u001b[0;31mFileNotFoundError\u001b[0m                         Traceback (most recent call last)",
            "\u001b[0;32m<ipython-input-3-f3191035e366>\u001b[0m in \u001b[0;36m<cell line: 2>\u001b[0;34m()\u001b[0m\n\u001b[1;32m      1\u001b[0m \u001b[0;31m# Load dataset into Pandas DataFrame\u001b[0m\u001b[0;34m\u001b[0m\u001b[0;34m\u001b[0m\u001b[0m\n\u001b[0;32m----> 2\u001b[0;31m \u001b[0mdf\u001b[0m \u001b[0;34m=\u001b[0m \u001b[0mpd\u001b[0m\u001b[0;34m.\u001b[0m\u001b[0mread_csv\u001b[0m\u001b[0;34m(\u001b[0m\u001b[0;34m'social_media_sentiment.csv'\u001b[0m\u001b[0;34m)\u001b[0m\u001b[0;34m\u001b[0m\u001b[0;34m\u001b[0m\u001b[0m\n\u001b[0m",
            "\u001b[0;32m/usr/local/lib/python3.10/dist-packages/pandas/io/parsers/readers.py\u001b[0m in \u001b[0;36mread_csv\u001b[0;34m(filepath_or_buffer, sep, delimiter, header, names, index_col, usecols, dtype, engine, converters, true_values, false_values, skipinitialspace, skiprows, skipfooter, nrows, na_values, keep_default_na, na_filter, verbose, skip_blank_lines, parse_dates, infer_datetime_format, keep_date_col, date_parser, date_format, dayfirst, cache_dates, iterator, chunksize, compression, thousands, decimal, lineterminator, quotechar, quoting, doublequote, escapechar, comment, encoding, encoding_errors, dialect, on_bad_lines, delim_whitespace, low_memory, memory_map, float_precision, storage_options, dtype_backend)\u001b[0m\n\u001b[1;32m   1024\u001b[0m     \u001b[0mkwds\u001b[0m\u001b[0;34m.\u001b[0m\u001b[0mupdate\u001b[0m\u001b[0;34m(\u001b[0m\u001b[0mkwds_defaults\u001b[0m\u001b[0;34m)\u001b[0m\u001b[0;34m\u001b[0m\u001b[0;34m\u001b[0m\u001b[0m\n\u001b[1;32m   1025\u001b[0m \u001b[0;34m\u001b[0m\u001b[0m\n\u001b[0;32m-> 1026\u001b[0;31m     \u001b[0;32mreturn\u001b[0m \u001b[0m_read\u001b[0m\u001b[0;34m(\u001b[0m\u001b[0mfilepath_or_buffer\u001b[0m\u001b[0;34m,\u001b[0m \u001b[0mkwds\u001b[0m\u001b[0;34m)\u001b[0m\u001b[0;34m\u001b[0m\u001b[0;34m\u001b[0m\u001b[0m\n\u001b[0m\u001b[1;32m   1027\u001b[0m \u001b[0;34m\u001b[0m\u001b[0m\n\u001b[1;32m   1028\u001b[0m \u001b[0;34m\u001b[0m\u001b[0m\n",
            "\u001b[0;32m/usr/local/lib/python3.10/dist-packages/pandas/io/parsers/readers.py\u001b[0m in \u001b[0;36m_read\u001b[0;34m(filepath_or_buffer, kwds)\u001b[0m\n\u001b[1;32m    618\u001b[0m \u001b[0;34m\u001b[0m\u001b[0m\n\u001b[1;32m    619\u001b[0m     \u001b[0;31m# Create the parser.\u001b[0m\u001b[0;34m\u001b[0m\u001b[0;34m\u001b[0m\u001b[0m\n\u001b[0;32m--> 620\u001b[0;31m     \u001b[0mparser\u001b[0m \u001b[0;34m=\u001b[0m \u001b[0mTextFileReader\u001b[0m\u001b[0;34m(\u001b[0m\u001b[0mfilepath_or_buffer\u001b[0m\u001b[0;34m,\u001b[0m \u001b[0;34m**\u001b[0m\u001b[0mkwds\u001b[0m\u001b[0;34m)\u001b[0m\u001b[0;34m\u001b[0m\u001b[0;34m\u001b[0m\u001b[0m\n\u001b[0m\u001b[1;32m    621\u001b[0m \u001b[0;34m\u001b[0m\u001b[0m\n\u001b[1;32m    622\u001b[0m     \u001b[0;32mif\u001b[0m \u001b[0mchunksize\u001b[0m \u001b[0;32mor\u001b[0m \u001b[0miterator\u001b[0m\u001b[0;34m:\u001b[0m\u001b[0;34m\u001b[0m\u001b[0;34m\u001b[0m\u001b[0m\n",
            "\u001b[0;32m/usr/local/lib/python3.10/dist-packages/pandas/io/parsers/readers.py\u001b[0m in \u001b[0;36m__init__\u001b[0;34m(self, f, engine, **kwds)\u001b[0m\n\u001b[1;32m   1618\u001b[0m \u001b[0;34m\u001b[0m\u001b[0m\n\u001b[1;32m   1619\u001b[0m         \u001b[0mself\u001b[0m\u001b[0;34m.\u001b[0m\u001b[0mhandles\u001b[0m\u001b[0;34m:\u001b[0m \u001b[0mIOHandles\u001b[0m \u001b[0;34m|\u001b[0m \u001b[0;32mNone\u001b[0m \u001b[0;34m=\u001b[0m \u001b[0;32mNone\u001b[0m\u001b[0;34m\u001b[0m\u001b[0;34m\u001b[0m\u001b[0m\n\u001b[0;32m-> 1620\u001b[0;31m         \u001b[0mself\u001b[0m\u001b[0;34m.\u001b[0m\u001b[0m_engine\u001b[0m \u001b[0;34m=\u001b[0m \u001b[0mself\u001b[0m\u001b[0;34m.\u001b[0m\u001b[0m_make_engine\u001b[0m\u001b[0;34m(\u001b[0m\u001b[0mf\u001b[0m\u001b[0;34m,\u001b[0m \u001b[0mself\u001b[0m\u001b[0;34m.\u001b[0m\u001b[0mengine\u001b[0m\u001b[0;34m)\u001b[0m\u001b[0;34m\u001b[0m\u001b[0;34m\u001b[0m\u001b[0m\n\u001b[0m\u001b[1;32m   1621\u001b[0m \u001b[0;34m\u001b[0m\u001b[0m\n\u001b[1;32m   1622\u001b[0m     \u001b[0;32mdef\u001b[0m \u001b[0mclose\u001b[0m\u001b[0;34m(\u001b[0m\u001b[0mself\u001b[0m\u001b[0;34m)\u001b[0m \u001b[0;34m->\u001b[0m \u001b[0;32mNone\u001b[0m\u001b[0;34m:\u001b[0m\u001b[0;34m\u001b[0m\u001b[0;34m\u001b[0m\u001b[0m\n",
            "\u001b[0;32m/usr/local/lib/python3.10/dist-packages/pandas/io/parsers/readers.py\u001b[0m in \u001b[0;36m_make_engine\u001b[0;34m(self, f, engine)\u001b[0m\n\u001b[1;32m   1878\u001b[0m                 \u001b[0;32mif\u001b[0m \u001b[0;34m\"b\"\u001b[0m \u001b[0;32mnot\u001b[0m \u001b[0;32min\u001b[0m \u001b[0mmode\u001b[0m\u001b[0;34m:\u001b[0m\u001b[0;34m\u001b[0m\u001b[0;34m\u001b[0m\u001b[0m\n\u001b[1;32m   1879\u001b[0m                     \u001b[0mmode\u001b[0m \u001b[0;34m+=\u001b[0m \u001b[0;34m\"b\"\u001b[0m\u001b[0;34m\u001b[0m\u001b[0;34m\u001b[0m\u001b[0m\n\u001b[0;32m-> 1880\u001b[0;31m             self.handles = get_handle(\n\u001b[0m\u001b[1;32m   1881\u001b[0m                 \u001b[0mf\u001b[0m\u001b[0;34m,\u001b[0m\u001b[0;34m\u001b[0m\u001b[0;34m\u001b[0m\u001b[0m\n\u001b[1;32m   1882\u001b[0m                 \u001b[0mmode\u001b[0m\u001b[0;34m,\u001b[0m\u001b[0;34m\u001b[0m\u001b[0;34m\u001b[0m\u001b[0m\n",
            "\u001b[0;32m/usr/local/lib/python3.10/dist-packages/pandas/io/common.py\u001b[0m in \u001b[0;36mget_handle\u001b[0;34m(path_or_buf, mode, encoding, compression, memory_map, is_text, errors, storage_options)\u001b[0m\n\u001b[1;32m    871\u001b[0m         \u001b[0;32mif\u001b[0m \u001b[0mioargs\u001b[0m\u001b[0;34m.\u001b[0m\u001b[0mencoding\u001b[0m \u001b[0;32mand\u001b[0m \u001b[0;34m\"b\"\u001b[0m \u001b[0;32mnot\u001b[0m \u001b[0;32min\u001b[0m \u001b[0mioargs\u001b[0m\u001b[0;34m.\u001b[0m\u001b[0mmode\u001b[0m\u001b[0;34m:\u001b[0m\u001b[0;34m\u001b[0m\u001b[0;34m\u001b[0m\u001b[0m\n\u001b[1;32m    872\u001b[0m             \u001b[0;31m# Encoding\u001b[0m\u001b[0;34m\u001b[0m\u001b[0;34m\u001b[0m\u001b[0m\n\u001b[0;32m--> 873\u001b[0;31m             handle = open(\n\u001b[0m\u001b[1;32m    874\u001b[0m                 \u001b[0mhandle\u001b[0m\u001b[0;34m,\u001b[0m\u001b[0;34m\u001b[0m\u001b[0;34m\u001b[0m\u001b[0m\n\u001b[1;32m    875\u001b[0m                 \u001b[0mioargs\u001b[0m\u001b[0;34m.\u001b[0m\u001b[0mmode\u001b[0m\u001b[0;34m,\u001b[0m\u001b[0;34m\u001b[0m\u001b[0;34m\u001b[0m\u001b[0m\n",
            "\u001b[0;31mFileNotFoundError\u001b[0m: [Errno 2] No such file or directory: 'social_media_sentiment.csv'"
          ]
        }
      ]
    },
    {
      "cell_type": "markdown",
      "source": [
        "CHECK FOR MISSING VALUES"
      ],
      "metadata": {
        "id": "GJ5zkfmxFKeV"
      }
    },
    {
      "cell_type": "code",
      "source": [
        "print(df.isnull().sum())\n",
        "# Handle missing values (if any)\n",
        "df = df.dropna()\n",
        "# Remove duplicates\n",
        "df = df.drop_duplicates()"
      ],
      "metadata": {
        "colab": {
          "base_uri": "https://localhost:8080/"
        },
        "id": "SByod-LrFOlF",
        "outputId": "a503e933-172d-4f53-ac85-a0f4a70154b1"
      },
      "execution_count": null,
      "outputs": [
        {
          "output_type": "stream",
          "name": "stdout",
          "text": [
            "review       0\n",
            "sentiment    0\n",
            "dtype: int64\n"
          ]
        }
      ]
    },
    {
      "cell_type": "markdown",
      "source": [
        "TEXT PREPROCESSING"
      ],
      "metadata": {
        "id": "adAllhoWFRAL"
      }
    },
    {
      "cell_type": "code",
      "source": [
        "# Example: Text preprocessing using NLTK\n",
        "nltk.download('stopwords')\n",
        "nltk.download('punkt')\n",
        "stop_words = set(stopwords.words('english'))\n",
        "def preprocess_text(text):\n",
        "  # Tokenization\n",
        "  words = word_tokenize(text.lower())\n",
        "  # Remove stop words and non-alphanumeric characters\n",
        "  words = [word for word in words if word.isalnum() and word not in stop_words]\n",
        "  return ' '.join(words)\n",
        "df['clean_text'] = df['review'].apply(preprocess_text) # Changed 'text' to 'review'"
      ],
      "metadata": {
        "colab": {
          "base_uri": "https://localhost:8080/"
        },
        "id": "aHcY_4aFFUAr",
        "outputId": "bba6488f-3a0e-4bc9-bf68-9a8a257106d7"
      },
      "execution_count": null,
      "outputs": [
        {
          "output_type": "stream",
          "name": "stderr",
          "text": [
            "[nltk_data] Downloading package stopwords to /root/nltk_data...\n",
            "[nltk_data]   Package stopwords is already up-to-date!\n",
            "[nltk_data] Downloading package punkt to /root/nltk_data...\n",
            "[nltk_data]   Unzipping tokenizers/punkt.zip.\n"
          ]
        }
      ]
    },
    {
      "cell_type": "markdown",
      "source": [
        "SENTIMENT ANALYSIS"
      ],
      "metadata": {
        "id": "7L5Ft6lpFcbD"
      }
    },
    {
      "cell_type": "code",
      "source": [
        "# Example: Sentiment analysis using Vader\n",
        "nltk.download('vader_lexicon')\n",
        "sid = SentimentIntensityAnalyzer()\n",
        "df['sentiment_scores'] = df['clean_text'].apply(lambda text: sid.polarity_scores(text))\n",
        "df['compound_score'] = df['sentiment_scores'].apply(lambda score_dict:\n",
        "score_dict['compound'])\n",
        "# Classify sentiment based on compound score\n",
        "df['sentiment'] = df['compound_score'].apply(lambda score: 'positive' if score >= 0.05\n",
        "else ('negative' if score <= -0.05 else 'neutral'))"
      ],
      "metadata": {
        "colab": {
          "base_uri": "https://localhost:8080/"
        },
        "id": "Fq65i35rFeWo",
        "outputId": "b1265273-31c7-4287-d5e0-9e19c7d2e86c"
      },
      "execution_count": null,
      "outputs": [
        {
          "output_type": "stream",
          "name": "stderr",
          "text": [
            "[nltk_data] Downloading package vader_lexicon to /root/nltk_data...\n"
          ]
        }
      ]
    },
    {
      "cell_type": "markdown",
      "source": [
        "DATA VISUALIZATION"
      ],
      "metadata": {
        "id": "uWdGvtrgFh1T"
      }
    },
    {
      "cell_type": "code",
      "source": [
        "# Example: Visualize sentiment distribution\n",
        "plt.figure(figsize=(8, 6))\n",
        "sns.countplot(x='sentiment', data=df, palette='coolwarm')\n",
        "plt.title('Sentiment Distribution')\n",
        "plt.xlabel('Sentiment')\n",
        "plt.ylabel('Count')\n",
        "plt.show()"
      ],
      "metadata": {
        "colab": {
          "base_uri": "https://localhost:8080/",
          "height": 671
        },
        "id": "47IJKCHSFkGt",
        "outputId": "ac15f0f9-1e09-48cc-8e2e-34bacd405d9e"
      },
      "execution_count": null,
      "outputs": [
        {
          "output_type": "stream",
          "name": "stderr",
          "text": [
            "<ipython-input-23-cbee89596b3a>:3: FutureWarning: \n",
            "\n",
            "Passing `palette` without assigning `hue` is deprecated and will be removed in v0.14.0. Assign the `x` variable to `hue` and set `legend=False` for the same effect.\n",
            "\n",
            "  sns.countplot(x='sentiment', data=df, palette='coolwarm')\n"
          ]
        },
        {
          "output_type": "display_data",
          "data": {
            "text/plain": [
              "<Figure size 800x600 with 1 Axes>"
            ],
            "image/png": "[encoded data removed]"
          },
          "metadata": {}
        }
      ]
    },
    {
      "cell_type": "markdown",
      "source": [
        "ADVANCED DATA SCIENCE TECHNIQUES"
      ],
      "metadata": {
        "id": "6PCJUXKNFm69"
      }
    },
    {
      "cell_type": "code",
      "source": [
        "# Example: Topic modeling using LDA (if applicable)\n",
        "from sklearn.feature_extraction.text import CountVectorizer\n",
        "from sklearn.decomposition import LatentDirichletAllocation as LDA\n",
        "vectorizer = CountVectorizer(max_df=0.95, min_df=2, stop_words='english')\n",
        "dtm = vectorizer.fit_transform(df['clean_text'])\n",
        "lda_model = LDA(n_components=3, random_state=42)\n",
        "lda_model.fit(dtm)\n",
        "# Display top words per topic\n",
        "for index, topic in enumerate(lda_model.components_):\n",
        "  print(f\"Topic #{index+1}\")\n",
        "  print([vectorizer.get_feature_names_out()[i] for i in topic.argsort()[-10:]])\n",
        "  print('\\n')"
      ],
      "metadata": {
        "colab": {
          "base_uri": "https://localhost:8080/"
        },
        "id": "De_DH7YiFrWM",
        "outputId": "49852ea7-8926-4dbc-8321-d3b45ab9b373"
      },
      "execution_count": null,
      "outputs": [
        {
          "output_type": "stream",
          "name": "stdout",
          "text": [
            "Topic #1\n",
            "['movie', 'story', 'film']\n",
            "\n",
            "\n",
            "Topic #2\n",
            "['story', 'film', 'movie']\n",
            "\n",
            "\n",
            "Topic #3\n",
            "['movie', 'film', 'story']\n",
            "\n",
            "\n"
          ]
        }
      ]
    },
    {
      "cell_type": "markdown",
      "source": [
        "CONCLUSION"
      ],
      "metadata": {
        "id": "SwViQldGFzyw"
      }
    },
    {
      "cell_type": "code",
      "source": [
        "# Example: Summarize findings and provide recommendations\n",
        "print(\"Summary of Social Media Sentiment Analysis:\")\n",
        "# Add your summary statements based on the analysis\n",
        "# Example recommendation based on insights\n",
        "if df['sentiment'].value_counts()['negative'] > 0.3 * len(df):\n",
        "  print(\"Recommend addressing negative sentiment through targeted campaigns orcustomer service improvements.\")\n",
        "else:\n",
        "  print(\"Overall sentiment analysis shows positive or neutral sentiments prevailing.\")"
      ],
      "metadata": {
        "colab": {
          "base_uri": "https://localhost:8080/"
        },
        "id": "qdrlqBKCF1hR",
        "outputId": "6e0ed009-b5d7-4079-9280-7fc6f6b0b8b4"
      },
      "execution_count": null,
      "outputs": [
        {
          "output_type": "stream",
          "name": "stdout",
          "text": [
            "Summary of Social Media Sentiment Analysis:\n",
            "Overall sentiment analysis shows positive or neutral sentiments prevailing.\n"
          ]
        }
      ]
    }
  ]
}